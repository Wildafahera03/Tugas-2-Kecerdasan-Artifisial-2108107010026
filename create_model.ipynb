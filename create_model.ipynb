{
 "cells": [
  {
   "cell_type": "code",
   "execution_count": 1,
   "metadata": {},
   "outputs": [
    {
     "name": "stdout",
     "output_type": "stream",
     "text": [
      "WARNING:tensorflow:From c:\\Users\\ASUS\\anaconda3\\Lib\\site-packages\\keras\\src\\losses.py:2976: The name tf.losses.sparse_softmax_cross_entropy is deprecated. Please use tf.compat.v1.losses.sparse_softmax_cross_entropy instead.\n",
      "\n"
     ]
    }
   ],
   "source": [
    "import tensorflow as tf\n",
    "import os\n",
    "from keras.preprocessing.image import ImageDataGenerator\n",
    "from tensorflow.keras.optimizers import RMSprop, Adam\n",
    "from tensorflow.keras.applications.inception_resnet_v2 import InceptionResNetV2, preprocess_input\n",
    "from tensorflow.keras.layers import Dropout, BatchNormalization\n",
    "from tensorflow.keras.callbacks import EarlyStopping\n",
    "from tensorflow.keras import layers, models\n",
    "from tensorflow.keras.callbacks import TensorBoard\n",
    "import datetime\n"
   ]
  },
  {
   "cell_type": "code",
   "execution_count": 4,
   "metadata": {},
   "outputs": [],
   "source": [
    "# Create a TensorBoard callback\n",
    "log_dir = \"logs/fit/\" + datetime.datetime.now().strftime(\"%Y%m%d-%H%M%S\")  # Adjust the log directory as needed\n",
    "tensorboard_callback = TensorBoard(log_dir=log_dir, histogram_freq=1)"
   ]
  },
  {
   "cell_type": "code",
   "execution_count": 5,
   "metadata": {},
   "outputs": [
    {
     "name": "stdout",
     "output_type": "stream",
     "text": [
      "Found 786 images belonging to 2 classes.\n",
      "Found 218 images belonging to 2 classes.\n"
     ]
    }
   ],
   "source": [
    "TRAINING_DIR = '/2108107010026_WildaFahera/glasses_noGlasses/train'\n",
    "train_datagen = ImageDataGenerator(\n",
    "                    rescale=1./255,\n",
    "                    rotation_range=20,\n",
    "                    horizontal_flip=True,\n",
    "                    shear_range = 0.2,\n",
    "                    fill_mode = 'nearest',\n",
    "                    validation_split=0.4)\n",
    "  # Normalize pixel values between 0 and 1\n",
    "\n",
    "# Load training data\n",
    "train_generator = train_datagen.flow_from_directory(\n",
    "    TRAINING_DIR,\n",
    "    target_size=(150, 150),  # Resize images to 150x150\n",
    "    batch_size=10,\n",
    "    class_mode='binary'\n",
    "    )\n",
    "\n",
    "        \n",
    "VALIDATION_DIR = '/2108107010026_WildaFahera/glasses_noGlasses/valid'\n",
    "validation_datagen = ImageDataGenerator(rescale=1.0/255.0)  # Normalize pixel values between 0 and 1\n",
    "\n",
    "# Load validation data\n",
    "validation_generator = validation_datagen.flow_from_directory(\n",
    "VALIDATION_DIR,\n",
    "target_size=(150, 150),  # Resize images to 150x150\n",
    "batch_size=10,\n",
    "class_mode='binary')"
   ]
  },
  {
   "cell_type": "code",
   "execution_count": 6,
   "metadata": {},
   "outputs": [
    {
     "name": "stdout",
     "output_type": "stream",
     "text": [
      "WARNING:tensorflow:From c:\\Users\\ASUS\\anaconda3\\Lib\\site-packages\\keras\\src\\backend.py:873: The name tf.get_default_graph is deprecated. Please use tf.compat.v1.get_default_graph instead.\n",
      "\n",
      "WARNING:tensorflow:From c:\\Users\\ASUS\\anaconda3\\Lib\\site-packages\\keras\\src\\layers\\pooling\\max_pooling2d.py:161: The name tf.nn.max_pool is deprecated. Please use tf.nn.max_pool2d instead.\n",
      "\n"
     ]
    }
   ],
   "source": [
    "model = tf.keras.models.Sequential([\n",
    "    tf.keras.layers.Conv2D(32, (3,3), activation='relu', input_shape=(150, 150, 3)),\n",
    "    tf.keras.layers.MaxPooling2D(2, 2),\n",
    "    tf.keras.layers.Conv2D(64, (3,3), activation='relu'),\n",
    "    tf.keras.layers.MaxPooling2D(2,2),\n",
    "    tf.keras.layers.Conv2D(128, (3,3), activation='relu'),\n",
    "    tf.keras.layers.MaxPooling2D(2,2),\n",
    "    tf.keras.layers.Conv2D(128, (3,3), activation='relu'),\n",
    "    tf.keras.layers.MaxPooling2D(2,2),\n",
    "    tf.keras.layers.Flatten(),\n",
    "    tf.keras.layers.Dense(512, activation='relu'),\n",
    "    tf.keras.layers.Dense(1, activation='sigmoid')\n",
    "])"
   ]
  },
  {
   "cell_type": "code",
   "execution_count": 7,
   "metadata": {},
   "outputs": [
    {
     "name": "stdout",
     "output_type": "stream",
     "text": [
      "Model: \"sequential\"\n",
      "_________________________________________________________________\n",
      " Layer (type)                Output Shape              Param #   \n",
      "=================================================================\n",
      " conv2d (Conv2D)             (None, 148, 148, 32)      896       \n",
      "                                                                 \n",
      " max_pooling2d (MaxPooling2  (None, 74, 74, 32)        0         \n",
      " D)                                                              \n",
      "                                                                 \n",
      " conv2d_1 (Conv2D)           (None, 72, 72, 64)        18496     \n",
      "                                                                 \n",
      " max_pooling2d_1 (MaxPoolin  (None, 36, 36, 64)        0         \n",
      " g2D)                                                            \n",
      "                                                                 \n",
      " conv2d_2 (Conv2D)           (None, 34, 34, 128)       73856     \n",
      "                                                                 \n",
      " max_pooling2d_2 (MaxPoolin  (None, 17, 17, 128)       0         \n",
      " g2D)                                                            \n",
      "                                                                 \n",
      " conv2d_3 (Conv2D)           (None, 15, 15, 128)       147584    \n",
      "                                                                 \n",
      " max_pooling2d_3 (MaxPoolin  (None, 7, 7, 128)         0         \n",
      " g2D)                                                            \n",
      "                                                                 \n",
      " flatten (Flatten)           (None, 6272)              0         \n",
      "                                                                 \n",
      " dense (Dense)               (None, 512)               3211776   \n",
      "                                                                 \n",
      " dense_1 (Dense)             (None, 1)                 513       \n",
      "                                                                 \n",
      "=================================================================\n",
      "Total params: 3453121 (13.17 MB)\n",
      "Trainable params: 3453121 (13.17 MB)\n",
      "Non-trainable params: 0 (0.00 Byte)\n",
      "_________________________________________________________________\n",
      "Jumlah Hidden layer: 5\n",
      "Jumlah total Hidden node: 781\n",
      "Jumlah total bobot (weight): 3453121\n"
     ]
    }
   ],
   "source": [
    "model.summary()\n",
    "\n",
    "# Menghitung jumlah hidden layer\n",
    "hidden_layers = [layer for layer in model.layers if isinstance(layer, (tf.keras.layers.Conv2D, tf.keras.layers.Dense))]\n",
    "print(\"Jumlah Hidden layer:\", len(hidden_layers) - 1)  # Mengurangkan 1 karena output layer tidak dihitung sebagai hidden layer\n",
    "\n",
    "# Menghitung total hidden nodes\n",
    "total_hidden_nodes = sum([layer.output_shape[1] for layer in hidden_layers[:-1]])  # Mengurangkan output layer\n",
    "print(\"Jumlah total Hidden node:\", total_hidden_nodes)\n",
    "\n",
    "# Menghitung total weights\n",
    "total_weights = sum([layer.count_params() for layer in model.layers])\n",
    "print(\"Jumlah total bobot (weight):\", total_weights)"
   ]
  },
  {
   "cell_type": "code",
   "execution_count": 8,
   "metadata": {},
   "outputs": [
    {
     "name": "stdout",
     "output_type": "stream",
     "text": [
      "Epoch 1/15\n",
      "WARNING:tensorflow:From c:\\Users\\ASUS\\anaconda3\\Lib\\site-packages\\keras\\src\\utils\\tf_utils.py:492: The name tf.ragged.RaggedTensorValue is deprecated. Please use tf.compat.v1.ragged.RaggedTensorValue instead.\n",
      "\n",
      "WARNING:tensorflow:From c:\\Users\\ASUS\\anaconda3\\Lib\\site-packages\\keras\\src\\engine\\base_layer_utils.py:384: The name tf.executing_eagerly_outside_functions is deprecated. Please use tf.compat.v1.executing_eagerly_outside_functions instead.\n",
      "\n",
      "79/79 [==============================] - 13s 148ms/step - loss: 0.4586 - accuracy: 0.7875 - val_loss: 0.5193 - val_accuracy: 0.8394\n",
      "Epoch 2/15\n",
      "79/79 [==============================] - 11s 141ms/step - loss: 0.2337 - accuracy: 0.9249 - val_loss: 0.1638 - val_accuracy: 0.9450\n",
      "Epoch 3/15\n",
      "79/79 [==============================] - 11s 139ms/step - loss: 0.1027 - accuracy: 0.9707 - val_loss: 0.0674 - val_accuracy: 0.9862\n",
      "Epoch 4/15\n",
      "79/79 [==============================] - 11s 138ms/step - loss: 0.0788 - accuracy: 0.9733 - val_loss: 0.0583 - val_accuracy: 0.9771\n",
      "Epoch 5/15\n",
      "79/79 [==============================] - 11s 138ms/step - loss: 0.0483 - accuracy: 0.9835 - val_loss: 0.0874 - val_accuracy: 0.9771\n",
      "Epoch 6/15\n",
      "79/79 [==============================] - 11s 140ms/step - loss: 0.0552 - accuracy: 0.9784 - val_loss: 0.0623 - val_accuracy: 0.9771\n",
      "Epoch 7/15\n",
      "79/79 [==============================] - 11s 141ms/step - loss: 0.0479 - accuracy: 0.9847 - val_loss: 0.0594 - val_accuracy: 0.9862\n",
      "Epoch 8/15\n",
      "79/79 [==============================] - 11s 142ms/step - loss: 0.0726 - accuracy: 0.9758 - val_loss: 0.0695 - val_accuracy: 0.9771\n",
      "Epoch 9/15\n",
      "79/79 [==============================] - 11s 143ms/step - loss: 0.1067 - accuracy: 0.9580 - val_loss: 0.1036 - val_accuracy: 0.9679\n",
      "Epoch 10/15\n",
      "79/79 [==============================] - 11s 140ms/step - loss: 0.0669 - accuracy: 0.9746 - val_loss: 0.0450 - val_accuracy: 0.9908\n",
      "Epoch 11/15\n",
      "79/79 [==============================] - 11s 141ms/step - loss: 0.0355 - accuracy: 0.9847 - val_loss: 0.0503 - val_accuracy: 0.9862\n",
      "Epoch 12/15\n",
      "79/79 [==============================] - 11s 143ms/step - loss: 0.0491 - accuracy: 0.9796 - val_loss: 0.0922 - val_accuracy: 0.9771\n",
      "Epoch 13/15\n",
      "79/79 [==============================] - 11s 141ms/step - loss: 0.0336 - accuracy: 0.9822 - val_loss: 0.0635 - val_accuracy: 0.9908\n",
      "Epoch 14/15\n",
      "79/79 [==============================] - 11s 140ms/step - loss: 0.0566 - accuracy: 0.9784 - val_loss: 0.0992 - val_accuracy: 0.9633\n",
      "Epoch 15/15\n",
      "79/79 [==============================] - 11s 142ms/step - loss: 0.0535 - accuracy: 0.9746 - val_loss: 0.0673 - val_accuracy: 0.9771\n"
     ]
    }
   ],
   "source": [
    "# Compile a Model\n",
    "model.compile(loss='binary_crossentropy',\n",
    "              optimizer=tf.optimizers.Adam(),\n",
    "              metrics=['accuracy'])   \n",
    "\n",
    "# Train the model\n",
    "history = model.fit(\n",
    "    train_generator,\n",
    "    epochs=15,\n",
    "    verbose=1,\n",
    "    validation_data=validation_generator,\n",
    "    callbacks=[tensorboard_callback]\n",
    "    )"
   ]
  },
  {
   "cell_type": "code",
   "execution_count": 9,
   "metadata": {},
   "outputs": [
    {
     "name": "stderr",
     "output_type": "stream",
     "text": [
      "c:\\Users\\ASUS\\anaconda3\\Lib\\site-packages\\keras\\src\\engine\\training.py:3103: UserWarning: You are saving your model as an HDF5 file via `model.save()`. This file format is considered legacy. We recommend using instead the native Keras format, e.g. `model.save('my_model.keras')`.\n",
      "  saving_api.save_model(\n"
     ]
    }
   ],
   "source": [
    "# Save the model to a file\n",
    "model.save('model_glassesNoGlasses.h5')"
   ]
  },
  {
   "cell_type": "code",
   "execution_count": 10,
   "metadata": {},
   "outputs": [],
   "source": [
    "# Load the saved model\n",
    "load_model = tf.keras.models.load_model('model_glassesNoGlasses.h5')"
   ]
  },
  {
   "cell_type": "code",
   "execution_count": 11,
   "metadata": {},
   "outputs": [
    {
     "name": "stdout",
     "output_type": "stream",
     "text": [
      "22/22 [==============================] - 1s 31ms/step - loss: 0.0673 - accuracy: 0.9771\n",
      "Test accuracy: 0.9770641922950745\n"
     ]
    }
   ],
   "source": [
    "\n",
    "# Evaluate the loaded model with test data\n",
    "test_loss, test_acc = load_model.evaluate(validation_generator)\n",
    "print(f'Test accuracy: {test_acc}')"
   ]
  },
  {
   "cell_type": "code",
   "execution_count": 12,
   "metadata": {},
   "outputs": [
    {
     "data": {
      "image/png": "[encoded data removed]",
      "text/plain": [
       "<Figure size 640x480 with 1 Axes>"
      ]
     },
     "metadata": {},
     "output_type": "display_data"
    }
   ],
   "source": [
    "import matplotlib.pyplot as plt\n",
    "\n",
    "# Retrieve a list of list results on training and test data sets for each training epoch\n",
    "acc = history.history['accuracy']\n",
    "val_acc = history.history['val_accuracy']\n",
    "\n",
    "# Plot training and validation accuracy per epoch\n",
    "plt.plot(acc, label='Training Accuracy')\n",
    "plt.plot(val_acc, label='Validation Accuracy')\n",
    "plt.title('Training and Validation Accuracy')\n",
    "plt.xlabel('Epoch')\n",
    "plt.ylabel('Accuracy')\n",
    "plt.legend(loc='upper left')\n",
    "\n",
    "# Specify the directory and filename for saving the plot\n",
    "save_dir = '/2108107010026_WildaFahera'  # Change to your desired directory\n",
    "save_filename = 'train_test_plot_glassesNoGlasses.png'  # Change to your desired filename\n",
    "\n",
    "# Save the plot to the specified directory and filename\n",
    "plt.savefig(os.path.join(save_dir, save_filename))\n",
    "\n",
    "# Display the plot (optional)\n",
    "plt.show()\n"
   ]
  },
  {
   "cell_type": "code",
   "execution_count": 17,
   "metadata": {},
   "outputs": [
    {
     "name": "stdout",
     "output_type": "stream",
     "text": [
      "1/1 [==============================] - 0s 81ms/step\n",
      "The image is predicted as a with glasses.\n"
     ]
    }
   ],
   "source": [
    "from keras.preprocessing import image\n",
    "from keras.models import load_model\n",
    "import numpy as np\n",
    "\n",
    "# Load your trained model (ensure the path is correct)\n",
    "model_path = '/2108107010026_WildaFahera/model_glassesNoGlasses.h5'\n",
    "loaded_model = load_model(model_path)\n",
    "\n",
    "def predict_image_class(image_path, model):\n",
    "    img = image.load_img(image_path, target_size=(150, 150))\n",
    "    x = image.img_to_array(img)\n",
    "    x = np.expand_dims(x, axis=0)\n",
    "    classes = model.predict(x)\n",
    "    return classes[0][0]\n",
    "\n",
    "def upload_and_predict():\n",
    "    image_path = input(\"Enter the file path of the image: \")\n",
    "    confidence = predict_image_class(image_path, loaded_model)\n",
    "    if confidence > 0.5:\n",
    "        print(\"The image is predicted as an no glasses.\")\n",
    "    else:\n",
    "        print(\"The image is predicted as a with glasses.\")\n",
    "\n",
    "# Perform the image upload and prediction\n",
    "upload_and_predict()\n"
   ]
  },
  {
   "cell_type": "code",
   "execution_count": 19,
   "metadata": {},
   "outputs": [
    {
     "name": "stdout",
     "output_type": "stream",
     "text": [
      "The tensorboard extension is already loaded. To reload it, use:\n",
      "  %reload_ext tensorboard\n"
     ]
    },
    {
     "data": {
      "text/plain": [
       "Reusing TensorBoard on port 6009 (pid 6780), started 0:00:13 ago. (Use '!kill 6780' to kill it.)"
      ]
     },
     "metadata": {},
     "output_type": "display_data"
    },
    {
     "data": {
      "text/html": [
       "\n",
       "      <iframe id=\"tensorboard-frame-9a64c64a7a934e80\" width=\"100%\" height=\"800\" frameborder=\"0\">\n",
       "      </iframe>\n",
       "      <script>\n",
       "        (function() {\n",
       "          const frame = document.getElementById(\"tensorboard-frame-9a64c64a7a934e80\");\n",
       "          const url = new URL(\"http://localhost\");\n",
       "          const port = 6009;\n",
       "          if (port) {\n",
       "            url.port = port;\n",
       "          }\n",
       "          frame.src = url;\n",
       "        })();\n",
       "      </script>\n",
       "    "
      ],
      "text/plain": [
       "<IPython.core.display.HTML object>"
      ]
     },
     "metadata": {},
     "output_type": "display_data"
    }
   ],
   "source": [
    "%load_ext tensorboard\n",
    "%tensorboard --logdir=./logs"
   ]
  }
 ],
 "metadata": {
  "kernelspec": {
   "display_name": "Python 3",
   "language": "python",
   "name": "python3"
  },
  "language_info": {
   "codemirror_mode": {
    "name": "ipython",
    "version": 3
   },
   "file_extension": ".py",
   "mimetype": "text/x-python",
   "name": "python",
   "nbconvert_exporter": "python",
   "pygments_lexer": "ipython3",
   "version": "3.11.4"
  }
 },
 "nbformat": 4,
 "nbformat_minor": 2
}
